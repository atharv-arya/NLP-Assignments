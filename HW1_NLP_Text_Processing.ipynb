{
  "cells": [
    {
      "cell_type": "markdown",
      "metadata": {
        "id": "lOHLpU5y0Wgo"
      },
      "source": [
        "#Part 1. n-Gram Language Models (30 points)\n",
        "\n",
        "Create 1-5-gram language models trained on the tiny shakespeare dataset. The relevant probabilities P(word|context) will be stored in Python dictionaries. Do not use any smoothing or back-off (until Question 4). Pay special attention to beginning and end of sequences in the modeling process.\n",
        "\n",
        "In this section, you may only use libraries imported in the original template."
      ]
    },
    {
      "cell_type": "code",
      "execution_count": 1,
      "metadata": {
        "id": "KQ0G021VWiOh"
      },
      "outputs": [],
      "source": [
        "# Import Libaries\n",
        "import requests\n",
        "import collections\n",
        "import random\n",
        "import math"
      ]
    },
    {
      "cell_type": "code",
      "execution_count": 2,
      "metadata": {
        "colab": {
          "base_uri": "https://localhost:8080/"
        },
        "id": "Ya2CfD3vWk2_",
        "outputId": "ac1dfe98-d072-4eb9-cdf6-24f864914401"
      },
      "outputs": [
        {
          "data": {
            "text/plain": [
              "(1115394,\n",
              " 'First Citizen:\\nBefore we proceed any further, hear me speak.\\n\\nAll:\\nSpeak, speak.\\n\\nFirst Citizen:\\nYou')"
            ]
          },
          "execution_count": 2,
          "metadata": {},
          "output_type": "execute_result"
        }
      ],
      "source": [
        "url = \"https://raw.githubusercontent.com/karpathy/char-rnn/master/data/tinyshakespeare/input.txt\"\n",
        "response = requests.get(url)\n",
        "response.raise_for_status() # Raise an exception for invalid HTTP status codes\n",
        "text_data = response.text\n",
        "len(text_data), text_data[:100]"
      ]
    },
    {
      "cell_type": "code",
      "execution_count": 3,
      "metadata": {
        "colab": {
          "base_uri": "https://localhost:8080/"
        },
        "id": "HtJfs33cWmBJ",
        "outputId": "71a39862-b544-4bec-b1f7-e28e544822f8"
      },
      "outputs": [
        {
          "name": "stdout",
          "output_type": "stream",
          "text": [
            "BY:\n",
            "Many good morrows to my noble lord!\n",
            "\n",
            "HASTINGS:\n",
            "Good morrow, Catesby; you are early stirring\n",
            "What\n"
          ]
        }
      ],
      "source": [
        "# sample\n",
        "random.seed(42)\n",
        "\n",
        "pos = random.randint(0, len(text_data) - 1000)\n",
        "print(text_data[pos:pos+100])"
      ]
    },
    {
      "cell_type": "code",
      "execution_count": 4,
      "metadata": {
        "colab": {
          "base_uri": "https://localhost:8080/"
        },
        "id": "SaPIqFwHWpA3",
        "outputId": "87095dce-81c6-4db5-88fc-42cc17f24e73"
      },
      "outputs": [
        {
          "name": "stdout",
          "output_type": "stream",
          "text": [
            "Number of words: 328097\n"
          ]
        }
      ],
      "source": [
        "# preprocessing - do not change\n",
        "def preprocess_text(text_data):\n",
        "  text_data = text_data.replace(',',' , ').replace(';', ' ').replace(':', ' ').replace('.',' . ').replace('?',' ? ').replace('!',' ! ')\n",
        "  text_data = text_data.replace('-', ' ')\n",
        "  text_data = text_data.replace('\\'', '').replace('\"', '')\n",
        "  text_data = text_data.replace('  ', ' ')\n",
        "  text_data = text_data.replace('\\n\\n','\\n').replace('\\n',' </s> <s> ')\n",
        "  text_data = '<s> ' + text_data + ' </s>'\n",
        "  text_data = text_data.lower()\n",
        "  return text_data\n",
        "\n",
        "text_data = preprocess_text(response.text)\n",
        "print(f\"Number of words: {len(text_data.split(' '))}\")"
      ]
    },
    {
      "cell_type": "code",
      "execution_count": 5,
      "metadata": {
        "colab": {
          "base_uri": "https://localhost:8080/"
        },
        "id": "cnHQ-enjWqVb",
        "outputId": "096c87f7-94eb-434c-b5aa-87bbb72ba29d"
      },
      "outputs": [
        {
          "data": {
            "text/plain": [
              "(1431030, 10000)"
            ]
          },
          "execution_count": 5,
          "metadata": {},
          "output_type": "execute_result"
        }
      ],
      "source": [
        "train_data = text_data[:-10_000]\n",
        "test_data = text_data[-10_000:]\n",
        "len(train_data), len(test_data)"
      ]
    },
    {
      "cell_type": "code",
      "execution_count": 6,
      "metadata": {
        "colab": {
          "base_uri": "https://localhost:8080/"
        },
        "id": "IrYnPsMKWrvG",
        "outputId": "c187be00-392a-4b28-b384-6399947fbaf2"
      },
      "outputs": [
        {
          "name": "stdout",
          "output_type": "stream",
          "text": [
            "Number of unique words: 12124\n",
            "Sample unique words: ['', 'aired', 'style', 'correcting', 'resist', 'pages', 'mercenary', 'told', 'ebbd', 'word']\n"
          ]
        }
      ],
      "source": [
        "vocab = set(train_data.split(' '))\n",
        "print(f\"Number of unique words: {len(vocab)}\")\n",
        "print(f\"Sample unique words: {list(vocab)[:10]}\")"
      ]
    },
    {
      "cell_type": "markdown",
      "metadata": {
        "id": "9YO9DwrkWuQQ"
      },
      "source": [
        " ## A. Dealing with Out of Vocabulary Words  (5 Points)\n",
        "\n",
        "We want a way to handle words that did not appear in the train set. Create a list of out of vocabulary words by identifying words that appear in the train dataset less than 3 times.\n",
        "\n",
        "**Hint:** You can split the dataset into terms by using corpus.split(' '). You can assume the results will be valid word tokens. No more preprocessing is necessary."
      ]
    },
    {
      "cell_type": "code",
      "execution_count": 7,
      "metadata": {
        "id": "CzuEDZoZWs7t"
      },
      "outputs": [],
      "source": [
        "def identify_oov_words(corpus, n=3):\n",
        "    \"\"\"\n",
        "    Identify out-of-vocabulary (OOV) words that appear less than `n` times in the dataset.\n",
        "\n",
        "    Parameters:\n",
        "    - dataset: The dataset to process. It should be a dictionary with a 'text' key.\n",
        "    - n: The frequency threshold below which words are considered OOV.\n",
        "\n",
        "    Returns:\n",
        "    - A set of out-of-vocabulary words.\n",
        "    \"\"\"\n",
        "    # INSERT CODE HERE\n",
        "    list_of_words = corpus.split(' ')\n",
        "    word_count = collections.Counter(list_of_words)\n",
        "    return {word for (word, count) in word_count.items() if count < n}\n"
      ]
    },
    {
      "cell_type": "code",
      "execution_count": 8,
      "metadata": {
        "colab": {
          "base_uri": "https://localhost:8080/"
        },
        "id": "S3_q0smRW2Ex",
        "outputId": "d1cdfeb1-da42-47fa-8e46-dbc0a6562c27"
      },
      "outputs": [
        {
          "name": "stdout",
          "output_type": "stream",
          "text": [
            "Number of OOV words: 7181\n",
            "Expected number of OOV words: 7181\n"
          ]
        }
      ],
      "source": [
        "oov_words = identify_oov_words(train_data)\n",
        "\n",
        "vocab = vocab - oov_words\n",
        "vocab.add('<UNK>')\n",
        "print(f\"Number of OOV words: {len(oov_words)}\")\n",
        "print(f\"Expected number of OOV words: {7181}\")\n",
        "\n",
        "assert len(oov_words) == 7181"
      ]
    },
    {
      "cell_type": "code",
      "execution_count": 9,
      "metadata": {
        "id": "L60G-KIEW5KA"
      },
      "outputs": [],
      "source": [
        "train_data = ' '.join(['<UNK>' if word not in vocab else word for word in train_data.split(' ')])\n",
        "test_data = ' '.join(['<UNK>' if word not in vocab else word for word in test_data.split(' ')])"
      ]
    },
    {
      "cell_type": "markdown",
      "metadata": {
        "id": "LHKNJJ-gW6qh"
      },
      "source": [
        "## B. Create the N-Gram Models (12 Points)\n",
        "In this section, we will train several N-Gram models on ONLY the train_data.\n",
        "\n",
        "First, calculate the counts of each N-Gram."
      ]
    },
    {
      "cell_type": "code",
      "execution_count": 10,
      "metadata": {
        "id": "s6p1troiW9lF"
      },
      "outputs": [],
      "source": [
        "uni_counts = collections.defaultdict(lambda:0)\n",
        "bi_counts = collections.defaultdict(lambda:0)\n",
        "tri_counts = collections.defaultdict(lambda:0)\n",
        "four_counts = collections.defaultdict(lambda:0)\n",
        "five_counts = collections.defaultdict(lambda:0)"
      ]
    },
    {
      "cell_type": "code",
      "execution_count": 11,
      "metadata": {
        "id": "nY3UMFE6W_ys"
      },
      "outputs": [],
      "source": [
        "# INSERT CODE HERE\n",
        "words = train_data.split(' ')\n",
        "\n",
        "for i in range(len(words)):\n",
        "  uni_counts[words[i]] += 1\n",
        "\n",
        "  if  i < len(words) - 1:\n",
        "    bigram = (words[i], words[i+1])\n",
        "    bi_counts[bigram] += 1\n",
        "\n",
        "  if i < len(words) - 2:\n",
        "    trigram = (words[i], words[i+1], words[i+2])\n",
        "    tri_counts[trigram] += 1\n",
        "\n",
        "  if i < len(words) - 3:\n",
        "    fourgram = (words[i], words[i+1], words[i+2], words[i+3])\n",
        "    four_counts[fourgram] += 1\n",
        "\n",
        "  if i < len(words) - 4:\n",
        "    fivegram = (words[i], words[i+1], words[i+2], words[i+3], words[i+4])\n",
        "    five_counts[fivegram] += 1\n"
      ]
    },
    {
      "cell_type": "markdown",
      "metadata": {
        "id": "7DdgHEI5XB0H"
      },
      "source": [
        "Next, implement the N-Gram models themselves."
      ]
    },
    {
      "cell_type": "code",
      "execution_count": 12,
      "metadata": {
        "id": "-aACGp05XAVW"
      },
      "outputs": [],
      "source": [
        "uni = collections.defaultdict(lambda:0)\n",
        "bi = collections.defaultdict(lambda:0)\n",
        "tri = collections.defaultdict(lambda:0)\n",
        "four = collections.defaultdict(lambda:0)\n",
        "five = collections.defaultdict(lambda:0)"
      ]
    },
    {
      "cell_type": "code",
      "execution_count": 13,
      "metadata": {
        "id": "CBnpHlliY3wP"
      },
      "outputs": [],
      "source": [
        "# INSERT CODE HERE\n",
        "\n",
        "total_no_of_words = len(train_data.split(' '))\n",
        "for unigram in uni_counts:\n",
        "  uni[unigram] = uni_counts[unigram] / total_no_of_words\n",
        "\n",
        "for bigram in bi_counts:\n",
        "  bi[bigram] = bi_counts[bigram] / uni_counts[bigram[0]]\n",
        "\n",
        "for trigram in tri_counts:\n",
        "  tri[trigram] = tri_counts[trigram] / bi_counts[(trigram[0], trigram[1])]\n",
        "\n",
        "for fourgram in four_counts:\n",
        "  four[fourgram] = four_counts[fourgram] / tri_counts[(fourgram[0], fourgram[1] ,fourgram[2])]\n",
        "\n",
        "for five_gram in five_counts:\n",
        "  five[five_gram] = five_counts[five_gram] / four_counts[(five_gram[0], five_gram[1] ,five_gram[2], five_gram[3])]\n"
      ]
    },
    {
      "cell_type": "code",
      "execution_count": 14,
      "metadata": {
        "id": "CUgTaWzVXDsQ"
      },
      "outputs": [],
      "source": [
        "# Evaluation\n",
        "assert five[('<s>', 'against', 'the', 'roman', 'state')] == 1.0 # prob of last given prev 4\n",
        "assert four[('remain', '</s>', '<s>', 'i')] == 0.25 # prob of last given prev 3\n",
        "assert tri[('did', 'see', 'and')] == 0.5 # prob of last given prev 2\n",
        "assert bi[('rash', 'like')] == 0.1 # prob of last given prev 1\n",
        "assert round(uni[('citizen')],5) == 0.00031 # prob of last"
      ]
    },
    {
      "cell_type": "markdown",
      "metadata": {
        "id": "Le7l1pSAXGWq"
      },
      "source": [
        "## C. Laplace Smoothing (6 Points)\n",
        "\n",
        "From now on, we will **focus our attention to the bigram model**. Reimplement the bigram model using Laplacian Smoothing."
      ]
    },
    {
      "cell_type": "code",
      "execution_count": 15,
      "metadata": {
        "id": "sVXNg0bZXLfM"
      },
      "outputs": [],
      "source": [
        "def calculate_bigram_probability_with_smoothing(word1, word2):\n",
        "  # INSERT CODE HERE\n",
        "  bigram_count = bi_counts[(word1, word2)] + 1\n",
        "  updated_count = uni_counts[word1] + len(vocab)\n",
        "\n",
        "  return bigram_count / updated_count"
      ]
    },
    {
      "cell_type": "markdown",
      "metadata": {
        "id": "p70s9JZcXQIC"
      },
      "source": [
        "## D. Evaluate Perplexity (7 Points)\n",
        "\n",
        "Now let's evaluate the smoothed bigram model quantitively using the intrinsic metric **perplexity**.\n",
        "\n",
        "Recall perplexity is the inverse probability of the test text\n",
        "$$\\text{ppl}(w_1, \\dots, w_n) = p(w_1, \\dots, w_n)^{-\\frac{1}{N}}$$\n",
        "\n",
        "For an n-gram model, perplexity is computed by\n",
        "$$\\text{ppl}(w_1, \\dots, w_n) = (\\prod_i p(w_{i+n}|w_i^{i+n-1})^{-\\frac{1}{N}}$$\n",
        "\n",
        "To get rid of numerical issue, we usually compute through:\n",
        "$$\\text{ppl}(w_1, \\dots, w_n) = \\exp(-\\frac{1}{N}\\sum_i \\log p(w_{i+n}|w_i^{i+n-1}))$$\n",
        "\n",
        "Note that you do NOT need to optimize the language model in any way so as to minimize perplexity. Your reported perplexity will have no correlation with your score on this assignment, as far as it is implemented correctly.\n",
        "\n",
        "**HINT:** Use the calculate_bigram_probability_with_smoothing function created above."
      ]
    },
    {
      "cell_type": "code",
      "execution_count": 16,
      "metadata": {
        "id": "pqODu8L-XPS9"
      },
      "outputs": [],
      "source": [
        "def compute_perplexity(data):\n",
        "  \"\"\"\n",
        "    Computes the perplexity of a given text data using a bigram language model.\n",
        "\n",
        "    Parameters:\n",
        "    - data : str\n",
        "    Returns:\n",
        "    - float\n",
        "  \"\"\"\n",
        "\n",
        "  assert len(data.split(' ')) >= 5\n",
        "  # Hint: You should use the math library for exp and log\n",
        "  # INSERT CODE HERE\n",
        "  words = data.split(' ')\n",
        "  N = len(words)\n",
        "  logprob_sum = 0\n",
        "\n",
        "  for i in range(N - 1):\n",
        "    bigram = (words[i], words[i+1])\n",
        "    bigram_prob = calculate_bigram_probability_with_smoothing(bigram[0], bigram[1])\n",
        "\n",
        "    logprob_sum += math.log(bigram_prob)\n",
        "\n",
        "  perplexity = math.exp(-logprob_sum / N)\n",
        "\n",
        "  return perplexity"
      ]
    },
    {
      "cell_type": "code",
      "execution_count": 17,
      "metadata": {
        "id": "vVLFr2EfXWOH"
      },
      "outputs": [],
      "source": [
        "assert round(compute_perplexity(test_data)) == 129"
      ]
    },
    {
      "cell_type": "markdown",
      "metadata": {
        "id": "c-evK15Gwf3_"
      },
      "source": [
        "# Part 2. Logistic Regression (40 points)\n",
        "\n"
      ]
    },
    {
      "cell_type": "markdown",
      "metadata": {
        "id": "1iiTuJWnfhA5"
      },
      "source": [
        " In this question, you will be guided to implement logistic regression classifer from scratch. You will use LR classifer to do sentiment analysis task on Twitter dataset (the dataset is provided in the code)."
      ]
    },
    {
      "cell_type": "markdown",
      "metadata": {
        "id": "M7etuJ5pwymq"
      },
      "source": [
        "## Import Data"
      ]
    },
    {
      "cell_type": "code",
      "execution_count": 18,
      "metadata": {
        "id": "Tw63O_jqwfJ1"
      },
      "outputs": [],
      "source": [
        "# run this cell to import nltk\n",
        "import nltk"
      ]
    },
    {
      "cell_type": "code",
      "execution_count": 19,
      "metadata": {
        "colab": {
          "base_uri": "https://localhost:8080/"
        },
        "id": "HotoYOViw3Bv",
        "outputId": "fdc4dcbb-1d0e-40c7-b4a6-898107578004"
      },
      "outputs": [
        {
          "name": "stderr",
          "output_type": "stream",
          "text": [
            "[nltk_data] Downloading package twitter_samples to /root/nltk_data...\n",
            "[nltk_data]   Package twitter_samples is already up-to-date!\n",
            "[nltk_data] Downloading package stopwords to /root/nltk_data...\n",
            "[nltk_data]   Package stopwords is already up-to-date!\n"
          ]
        },
        {
          "data": {
            "text/plain": [
              "True"
            ]
          },
          "execution_count": 19,
          "metadata": {},
          "output_type": "execute_result"
        }
      ],
      "source": [
        "nltk.download('twitter_samples')\n",
        "nltk.download('stopwords')\n",
        "# you only need to run it once"
      ]
    },
    {
      "cell_type": "code",
      "execution_count": 20,
      "metadata": {
        "id": "O8KazUgww7rU"
      },
      "outputs": [],
      "source": [
        "import numpy as np\n",
        "import pandas as pd\n",
        "from nltk.corpus import twitter_samples\n",
        "import re\n",
        "import string\n",
        "\n",
        "from nltk.corpus import stopwords\n",
        "from nltk.stem import PorterStemmer\n",
        "from nltk.tokenize import TweetTokenizer"
      ]
    },
    {
      "cell_type": "markdown",
      "metadata": {
        "id": "0zmbOD3-xgpf"
      },
      "source": [
        "## Prepare the data\n",
        "* You do not need to split the data. We provide the code for you and you just need to run the code below.\n"
      ]
    },
    {
      "cell_type": "code",
      "execution_count": 21,
      "metadata": {
        "id": "lq8Rr5R4xc8d"
      },
      "outputs": [],
      "source": [
        "# select the set of positive and negative tweets\n",
        "all_positive_tweets = twitter_samples.strings('positive_tweets.json')\n",
        "all_negative_tweets = twitter_samples.strings('negative_tweets.json')"
      ]
    },
    {
      "cell_type": "markdown",
      "metadata": {
        "id": "pd-qM1SBxlQw"
      },
      "source": [
        "* Train test split: 20% will be in the test set, and 80% in the training set.\n"
      ]
    },
    {
      "cell_type": "code",
      "execution_count": 22,
      "metadata": {
        "id": "SJsYMwnoxodO"
      },
      "outputs": [],
      "source": [
        "# split the data into two pieces, one for training and one for testing (validation set)\n",
        "test_pos = all_positive_tweets[4000:]\n",
        "train_pos = all_positive_tweets[:4000]\n",
        "test_neg = all_negative_tweets[4000:]\n",
        "train_neg = all_negative_tweets[:4000]\n",
        "\n",
        "train_x = train_pos + train_neg\n",
        "test_x = test_pos + test_neg"
      ]
    },
    {
      "cell_type": "markdown",
      "metadata": {
        "id": "usI6KCj6xtBX"
      },
      "source": [
        "* Create the numpy array of positive labels and negative labels."
      ]
    },
    {
      "cell_type": "code",
      "execution_count": 23,
      "metadata": {
        "id": "CVEhgGkix0UR"
      },
      "outputs": [],
      "source": [
        "# combine positive and negative labels\n",
        "train_y = np.append(np.ones((len(train_pos), 1)), np.zeros((len(train_neg), 1)), axis=0)\n",
        "test_y = np.append(np.ones((len(test_pos), 1)), np.zeros((len(test_neg), 1)), axis=0)"
      ]
    },
    {
      "cell_type": "markdown",
      "metadata": {
        "id": "vqd8BjfkxDaI"
      },
      "source": [
        "## A.  Text processing (6 points)\n",
        "\n",
        "\n",
        "\n",
        "\n",
        "\n",
        "\n",
        "*   Remove old style retweet with 'RT' in the sentence\n",
        "*   Remove hyperlinks\n",
        "\n",
        "*   Remove hashtag\n",
        "*   Tokenize the sentence using TweetTokenizer\n",
        "\n",
        "\n",
        "*   Remove stop words\n",
        "*   Use PorterStemmer to create stem of words in tweet\n",
        "\n",
        "\n",
        "\n",
        "\n",
        "\n",
        "\n",
        "\n",
        "\n",
        "\n",
        "\n"
      ]
    },
    {
      "cell_type": "code",
      "execution_count": 24,
      "metadata": {
        "id": "Cp6zvJ3uw-rP"
      },
      "outputs": [],
      "source": [
        "def process_tweet(tweet):\n",
        "  # write your code here\n",
        "  tweet = re.sub(r'\\bRT\\b', '', tweet)\n",
        "  tweet = re.sub(r'http\\S+|www\\S+|https\\S+', '', tweet)\n",
        "  tweet = re.sub(r'#', '', tweet)\n",
        "  tokenizer = TweetTokenizer()\n",
        "  tweet = tokenizer.tokenize(tweet)\n",
        "  stopwords_list = set(stopwords.words('english'))\n",
        "  tweet = [word for word in tweet if word not in stopwords_list]\n",
        "  stemmer = PorterStemmer()\n",
        "  tweet = [stemmer.stem(word) for word in tweet]\n",
        "\n",
        "  return tweet"
      ]
    },
    {
      "cell_type": "markdown",
      "metadata": {
        "id": "SeW_hTjhxTQz"
      },
      "source": [
        "We will create a function that will take tweets and their labels as input, go through every tweet, preprocess them, count the occurrence of every word in the data set and create a frequency dictionary.\n",
        "\n",
        "Notice how the outer for loop goes through each tweet, and the inner for loop steps through each word in a tweet.\n",
        "The freqs dictionary is the frequency dictionary that's being built.\n",
        "The key is the tuple (word, label), such as (\"happy\",1) or (\"happy\",0). The value stored for each key is the count of how many times the word \"happy\" was associated with a positive label, or how many times \"happy\" was associated with a negative label."
      ]
    },
    {
      "cell_type": "code",
      "execution_count": 25,
      "metadata": {
        "id": "L-s8dg8NxX4i"
      },
      "outputs": [],
      "source": [
        "def build_freqs(tweets, ys):\n",
        "\n",
        "  # write your code here\n",
        "  freqs = collections.defaultdict(lambda:0)\n",
        "\n",
        "  for i in range(len(tweets)):\n",
        "    tweet = tweets[i]\n",
        "    tweet_label = ys[i].item()\n",
        "    processed_tweets_word_list = process_tweet(tweet)\n",
        "\n",
        "    for word in processed_tweets_word_list:\n",
        "      word_label_pair = (word, tweet_label)\n",
        "      freqs[word_label_pair] += 1\n",
        "\n",
        "  return freqs\n"
      ]
    },
    {
      "cell_type": "markdown",
      "metadata": {
        "id": "A5iTSkQHx6I4"
      },
      "source": [
        "## B. Logistic regression (16 points)\n",
        "\n",
        "\n",
        "### Sigmoid (4 points)\n",
        "\n",
        "You will learn to use logistic regression for text classification.\n",
        "* The sigmoid function is defined as:\n",
        "\n",
        "$$ h(z) = \\frac{1}{1+\\exp^{-z}} \\tag{1}$$\n",
        "\n",
        "It maps the input 'z' to a value that ranges between 0 and 1, and so it can be treated as a probability.\n"
      ]
    },
    {
      "cell_type": "code",
      "execution_count": 26,
      "metadata": {
        "id": "WP5U6cRDyFqb"
      },
      "outputs": [],
      "source": [
        "def sigmoid(z):\n",
        "  '''\n",
        "  Input:\n",
        "      z: is the input (can be a scalar or an array)\n",
        "  Output:\n",
        "      h: the sigmoid of z\n",
        "  '''\n",
        "  return (1 / (1 + np.exp(-z)))\n"
      ]
    },
    {
      "cell_type": "markdown",
      "metadata": {
        "id": "Ckn5acahyKHF"
      },
      "source": [
        "*If you are familiar with Logistic regression, you don't need to go over this instructions. *\n",
        "\n",
        "### Logistic regression: regression and a sigmoid\n",
        "\n",
        "Logistic regression takes a regular linear regression, and applies a sigmoid to the output of the linear regression.\n",
        "\n",
        "Regression:\n",
        "$$z = \\theta_0 x_0 + \\theta_1 x_1 + \\theta_2 x_2 + ... \\theta_N x_N$$\n",
        "Note that the $\\theta$ values are \"weights\". If you took the Deep Learning Specialization, we referred to the weights with the `w` vector.  In this course, we're using a different variable $\\theta$ to refer to the weights.\n",
        "\n",
        "Logistic regression\n",
        "$$ h(z) = \\frac{1}{1+\\exp^{-z}}$$\n",
        "$$z = \\theta_0 x_0 + \\theta_1 x_1 + \\theta_2 x_2 + ... \\theta_N x_N$$\n",
        "We will refer to 'z' as the 'logits'.\n",
        "\n",
        "###  Cost function and Gradient\n",
        "\n",
        "The cost function used for logistic regression is the average of the log loss across all training examples:\n",
        "\n",
        "$$J(\\theta) = -\\frac{1}{m} \\sum_{i=1}^m y^{(i)}\\log (h(z(\\theta)^{(i)})) + (1-y^{(i)})\\log (1-h(z(\\theta)^{(i)}))\\tag{5} $$\n",
        "* $m$ is the number of training examples\n",
        "* $y^{(i)}$ is the actual label of the i-th training example.\n",
        "* $h(z(\\theta)^{(i)})$ is the model's prediction for the i-th training example.\n",
        "\n",
        "The loss function for a single training example is\n",
        "$$ Loss = -1 \\times \\left( y^{(i)}\\log (h(z(\\theta)^{(i)})) + (1-y^{(i)})\\log (1-h(z(\\theta)^{(i)})) \\right)$$\n",
        "\n",
        "* All the $h$ values are between 0 and 1, so the logs will be negative. That is the reason for the factor of -1 applied to the sum of the two loss terms.\n",
        "* Note that when the model predicts 1 ($h(z(\\theta)) = 1$) and the label $y$ is also 1, the loss for that training example is 0.\n",
        "\n",
        "### Update the weights\n",
        "\n",
        "To update your weight vector $\\theta$, you will apply gradient descent to iteratively improve your model's predictions.  \n",
        "The gradient of the cost function $J$ with respect to one of the weights $\\theta_j$ is:\n",
        "\n",
        "$$\\nabla_{\\theta_j}J(\\theta) = \\frac{1}{m} \\sum_{i=1}^m(h^{(i)}-y^{(i)})x_j \\tag{5}$$\n",
        "* 'i' is the index across all 'm' training examples.\n",
        "* 'j' is the index of the weight $\\theta_j$, so $x_j$ is the feature associated with weight $\\theta_j$\n",
        "\n",
        "* To update the weight $\\theta_j$, we adjust it by subtracting a fraction of the gradient determined by $\\alpha$:\n",
        "$$\\theta_j = \\theta_j - \\alpha \\times \\nabla_{\\theta_j}J(\\theta) $$\n",
        "* The learning rate $\\alpha$ is a value that we choose to control how big a single update will be.\n"
      ]
    },
    {
      "cell_type": "markdown",
      "metadata": {
        "id": "VYaPWAXoy8E4"
      },
      "source": [
        "### Implement gradient descent function (12 points)\n",
        "\n",
        "* The number of iterations `num_iters` is the number of times that you'll use the entire training set.\n",
        "* For each iteration, you'll calculate the cost function using all training examples (there are `m` training examples), and for all features.\n",
        "* Instead of updating a single weight $\\theta_i$ at a time, we can update all the weights in the column vector:  \n",
        "$$\\mathbf{\\theta} = \\begin{pmatrix}\n",
        "\\theta_0\n",
        "\\\\\n",
        "\\theta_1\n",
        "\\\\\n",
        "\\theta_2\n",
        "\\\\\n",
        "\\vdots\n",
        "\\\\\n",
        "\\theta_n\n",
        "\\end{pmatrix}$$\n",
        "* $\\mathbf{\\theta}$ has dimensions (n+1, 1), where 'n' is the number of features, and there is one more element for the bias term $\\theta_0$ (note that the corresponding feature value $\\mathbf{x_0}$ is 1).\n",
        "* The 'logits', 'z', are calculated by multiplying the feature matrix 'x' with the weight vector 'theta'.  $z = \\mathbf{x}\\mathbf{\\theta}$\n",
        "    * $\\mathbf{x}$ has dimensions (m, n+1)\n",
        "    * $\\mathbf{\\theta}$: has dimensions (n+1, 1)\n",
        "    * $\\mathbf{z}$: has dimensions (m, 1)\n",
        "* The prediction 'h', is calculated by applying the sigmoid to each element in 'z': $h(z) = sigmoid(z)$, and has dimensions (m,1).\n",
        "* The cost function $J$ is calculated by taking the dot product of the vectors 'y' and 'log(h)'.  Since both 'y' and 'h' are column vectors (m,1), transpose the vector to the left, so that matrix multiplication of a row vector with column vector performs the dot product.\n",
        "$$J = \\frac{-1}{m} \\times \\left(\\mathbf{y}^T \\cdot log(\\mathbf{h}) + \\mathbf{(1-y)}^T \\cdot log(\\mathbf{1-h}) \\right)$$\n",
        "* The update of theta is also vectorized.  Because the dimensions of $\\mathbf{x}$ are (m, n+1), and both $\\mathbf{h}$ and $\\mathbf{y}$ are (m, 1), we need to transpose the $\\mathbf{x}$ and place it on the left in order to perform matrix multiplication, which then yields the (n+1, 1) answer we need:\n",
        "$$\\mathbf{\\theta} = \\mathbf{\\theta} - \\frac{\\alpha}{m} \\times \\left( \\mathbf{x}^T \\cdot \\left( \\mathbf{h-y} \\right) \\right)$$"
      ]
    },
    {
      "cell_type": "code",
      "execution_count": 27,
      "metadata": {
        "id": "u5ylWyKIzEqs"
      },
      "outputs": [],
      "source": [
        "def gradientDescent(x, y, theta, alpha, num_iters):\n",
        "  '''\n",
        "  Input:\n",
        "      x: matrix of features which is (m,n+1)\n",
        "      y: corresponding labels of the input matrix x, dimensions (m,1)\n",
        "      theta: weight vector of dimension (n+1,1)\n",
        "      alpha: learning rate\n",
        "      num_iters: number of iterations you want to train your model for\n",
        "  Output:\n",
        "      J: the final cost\n",
        "      theta: your final weight vector\n",
        "  Hint: you might want to print the cost to make sure that it is going down.\n",
        "  '''\n",
        "\n",
        "  ### Write your code here\n",
        "\n",
        "  no_of_training_examples = len(y)\n",
        "  # took help from chatgpt to understand the need for introduction of epsilon in order to deal with situation where log(h) = 0\n",
        "  e = 1e-5\n",
        "  j = 0\n",
        "\n",
        "  for i in range(num_iters):\n",
        "    z = np.dot(x, theta)\n",
        "    h = sigmoid(z)\n",
        "    h = np.clip(h, -1e-5, 1000)\n",
        "    j = (-1/no_of_training_examples) * (np.dot(y.T, np.log(h + e)) + np.dot((1 - y).T, np.log(1 - h + e)))\n",
        "    gradient = (1/no_of_training_examples) * np.dot(x.T, (h - y + e))\n",
        "    theta = theta - (alpha * gradient)\n",
        "\n",
        "    if i % 500 == 0:\n",
        "      print(f\"{i}th iteration | Cost: {j[0][0]}\")\n",
        "\n",
        "  return j, theta"
      ]
    },
    {
      "cell_type": "markdown",
      "metadata": {
        "id": "kOW5hhOezOnu"
      },
      "source": [
        "## C. Extracting the features (6 points)\n",
        "\n",
        "* Given a list of tweets, extract the features and store them in a matrix. You will extract two features.\n",
        "    * The first feature is the number of positive words in a tweet.\n",
        "    * The second feature is the number of negative words in a tweet.\n",
        "* Then train your logistic regression classifier on these features.\n",
        "* Test the classifier on a validation set.\n",
        "\n",
        "### Instructions: Implement the extract_features function.\n",
        "* This function takes in a single tweet.\n",
        "* Process the tweet using the imported `process_tweet()` function and save the list of tweet words.\n",
        "* Loop through each word in the list of processed words\n",
        "    * For each word, check the `freqs` dictionary for the count when that word has a positive '1' label. (Check for the key (word, 1.0)\n",
        "    * Do the same for the count for when the word is associated with the negative label '0'. (Check for the key (word, 0.0).)"
      ]
    },
    {
      "cell_type": "code",
      "execution_count": 28,
      "metadata": {
        "id": "KosqgShlzIbD"
      },
      "outputs": [],
      "source": [
        "def extract_features(tweet, freqs):\n",
        "  '''\n",
        "  Input:\n",
        "      tweet: a list of words for one tweet\n",
        "      freqs: a dictionary corresponding to the frequencies of each tuple (word, label)\n",
        "  Output:\n",
        "      x: a feature vector of dimension (1,3)\n",
        "  '''\n",
        "\n",
        "  # process_tweet tokenizes, stems, and removes stopwords\n",
        "  word_l = process_tweet(tweet)\n",
        "\n",
        "  # 3 elements in the form of a 1 x 3 vector\n",
        "  x = np.zeros((1, 3))\n",
        "\n",
        "  #bias term is set to 1\n",
        "  x[0,0] = 1\n",
        "\n",
        "  # write your code here\n",
        "  pos_cnt, neg_cnt = 0, 0\n",
        "\n",
        "  for word in word_l:\n",
        "    if (word, 1) in freqs:\n",
        "      pos_cnt += freqs[(word, 1)]\n",
        "    if (word, 0) in freqs:\n",
        "      neg_cnt += freqs[(word, 0)]\n",
        "\n",
        "  x[0, 1] = pos_cnt\n",
        "  x[0, 2] = neg_cnt\n",
        "\n",
        "  return x"
      ]
    },
    {
      "cell_type": "markdown",
      "metadata": {
        "id": "ThQX8MJUzYQa"
      },
      "source": [
        "## D. Training Your Model (6 points)\n",
        "\n",
        "To train the model:\n",
        "* Stack the features for all training examples into a matrix `X`.\n",
        "* Call `gradientDescent`, which you've implemented above.\n",
        "* Print the cost J and final weights theta."
      ]
    },
    {
      "cell_type": "code",
      "execution_count": 29,
      "metadata": {
        "colab": {
          "base_uri": "https://localhost:8080/"
        },
        "id": "Bh-KGwH1zXkF",
        "outputId": "41baa16e-9605-44d1-e052-dda3318bd0e6"
      },
      "outputs": [
        {
          "name": "stdout",
          "output_type": "stream",
          "text": [
            "0th iteration | Cost: 0.6931271807599442\n",
            "500th iteration | Cost: 0.3602351609362304\n",
            "1000th iteration | Cost: 0.25712591275840574\n",
            "1500th iteration | Cost: 0.2091475520448799\n",
            "Final cost j = [[0.1816877]]\n",
            "Updated theta = [[ 5.74596650e-08]\n",
            " [ 6.42562676e-04]\n",
            " [-6.22969397e-04]]\n"
          ]
        }
      ],
      "source": [
        "# write your code here\n",
        "freqs = build_freqs(train_x, train_y)\n",
        "X = np.zeros((len(train_x), 3))\n",
        "theta = np.zeros((3,1))\n",
        "alpha = 1e-9\n",
        "num_iters = 2000\n",
        "\n",
        "for i in range(len(train_x)):\n",
        "  features = extract_features(train_x[i], freqs)\n",
        "  X[i, :] = features\n",
        "\n",
        "j, theta = gradientDescent(X, train_y, theta, alpha, num_iters)\n",
        "\n",
        "print(f\"Final cost j = {j}\")\n",
        "print(f\"Updated theta = {theta}\")\n"
      ]
    },
    {
      "cell_type": "markdown",
      "metadata": {
        "id": "dZ3BTrKTziUF"
      },
      "source": [
        "## E. Test your model (6 points)\n",
        "\n",
        "It is time for you to test your logistic regression function on some new input that your model has not seen before.\n",
        "\n",
        "#### Instructions: Write `predict_tweet`\n",
        "Predict whether a tweet is positive or negative.\n",
        "\n",
        "* Given a tweet, process it, then extract the features.\n",
        "* Apply the model's learned weights on the features to get the logits.\n",
        "* Apply the sigmoid to the logits to get the prediction (a value between 0 and 1).\n",
        "\n",
        "$$y_{pred} = sigmoid(\\mathbf{x} \\cdot \\theta)$$"
      ]
    },
    {
      "cell_type": "code",
      "execution_count": 30,
      "metadata": {
        "id": "C0gsWj6ozgiT"
      },
      "outputs": [],
      "source": [
        "def predict_tweet(tweet, freqs, theta):\n",
        "  '''\n",
        "  Input:\n",
        "      tweet: a string\n",
        "      freqs: a dictionary corresponding to the frequencies of each tuple (word, label)\n",
        "      theta: (3,1) vector of weights\n",
        "  Output:\n",
        "      y_pred: the probability of a tweet being positive or negative\n",
        "  '''\n",
        "  # write your code here\n",
        "\n",
        "  x = extract_features(tweet, freqs)\n",
        "  z = np.dot(x, theta)\n",
        "  y_pred = sigmoid(z)\n",
        "\n",
        "  return y_pred"
      ]
    },
    {
      "cell_type": "markdown",
      "metadata": {
        "id": "qfL3YpxMzxEl"
      },
      "source": [
        "### Check performance using the test set\n",
        "After training your model using the training set above, check how your model might perform on real, unseen data, by testing it against the test set.\n",
        "\n",
        "#### Instructions: Implement `test_logistic_regression`\n",
        "* Given the test data and the weights of your trained model, calculate the accuracy of your logistic regression model.\n",
        "* Use your `predict_tweet()` function to make predictions on each tweet in the test set.\n",
        "* If the prediction is > 0.5, set the model's classification `y_hat` to 1, otherwise set the model's classification `y_hat` to 0.\n",
        "* A prediction is accurate when `y_hat` equals `test_y`.  Sum up all the instances when they are equal and divide by `m`."
      ]
    },
    {
      "cell_type": "code",
      "execution_count": 31,
      "metadata": {
        "id": "3U2Cht1Cz437"
      },
      "outputs": [],
      "source": [
        "def test_logistic_regression(test_x, test_y, freqs, theta):\n",
        "  \"\"\"\n",
        "  Input:\n",
        "      test_x: a list of tweets\n",
        "      test_y: (m, 1) vector with the corresponding labels for the list of tweets\n",
        "      freqs: a dictionary with the frequency of each pair (or tuple)\n",
        "      theta: weight vector of dimension (3, 1)\n",
        "  Output:\n",
        "      accuracy: (# of tweets classified correctly) / (total # of tweets)\n",
        "  \"\"\"\n",
        "  tot_correct_preds = 0\n",
        "\n",
        "  for i in range(len(test_x)):\n",
        "    tweet = test_x[i]\n",
        "    y = test_y[i]\n",
        "\n",
        "    y_pred = predict_tweet(tweet, freqs, theta)\n",
        "\n",
        "    if y_pred > 0.5:\n",
        "      y_hat = 1\n",
        "    else:\n",
        "      y_hat = 0\n",
        "\n",
        "    if y_hat == y:\n",
        "      tot_correct_preds += 1\n",
        "\n",
        "  accuracy = tot_correct_preds / len(test_y)\n",
        "\n",
        "  return accuracy"
      ]
    },
    {
      "cell_type": "code",
      "execution_count": 32,
      "metadata": {
        "colab": {
          "base_uri": "https://localhost:8080/"
        },
        "id": "GwaUhFDlz8wg",
        "outputId": "4a897610-f761-40af-e49c-cfa47a119d00"
      },
      "outputs": [
        {
          "name": "stdout",
          "output_type": "stream",
          "text": [
            "Logistic regression model's accuracy = 0.9815\n"
          ]
        }
      ],
      "source": [
        "tmp_accuracy = test_logistic_regression(test_x, test_y, freqs, theta)\n",
        "print(f\"Logistic regression model's accuracy = {tmp_accuracy:.4f}\")"
      ]
    },
    {
      "cell_type": "markdown",
      "metadata": {
        "id": "snPTf5W90sdC"
      },
      "source": [
        "#Part 3. Word Embeddings (30 points)"
      ]
    },
    {
      "cell_type": "markdown",
      "metadata": {
        "id": "qujKDYlzgG8V"
      },
      "source": [
        "In this question, you will implement cosine similarities from scratch and solve some word analogy problems with pre-trained word vectors."
      ]
    },
    {
      "cell_type": "markdown",
      "metadata": {
        "id": "Y-RqYJcv05rP"
      },
      "source": [
        "## A. Load Pre-trained GloVe Word Vectors with Gensim (0 points)\n",
        "\n",
        "- Gensim is a package that implements the word2vec family of algorithms. Here, we use it to load a pre-trained word vectors named GloVe ([Pennington et al. 2014](https://aclanthology.org/D14-1162/)). Please follow the instructions below.\n",
        "- See more about the Gensim API here: https://radimrehurek.com/gensim/models/word2vec.html"
      ]
    },
    {
      "cell_type": "code",
      "execution_count": 33,
      "metadata": {
        "colab": {
          "base_uri": "https://localhost:8080/"
        },
        "id": "ZoQgPZiL0yG1",
        "outputId": "bd66c764-48ab-48b3-a719-5d0d6f42d141"
      },
      "outputs": [
        {
          "name": "stdout",
          "output_type": "stream",
          "text": [
            "Requirement already satisfied: gensim in /usr/local/lib/python3.10/dist-packages (4.3.3)\n",
            "Requirement already satisfied: numpy<2.0,>=1.18.5 in /usr/local/lib/python3.10/dist-packages (from gensim) (1.26.4)\n",
            "Requirement already satisfied: scipy<1.14.0,>=1.7.0 in /usr/local/lib/python3.10/dist-packages (from gensim) (1.13.1)\n",
            "Requirement already satisfied: smart-open>=1.8.1 in /usr/local/lib/python3.10/dist-packages (from gensim) (7.0.4)\n",
            "Requirement already satisfied: wrapt in /usr/local/lib/python3.10/dist-packages (from smart-open>=1.8.1->gensim) (1.16.0)\n"
          ]
        }
      ],
      "source": [
        "!pip install gensim"
      ]
    },
    {
      "cell_type": "code",
      "execution_count": 34,
      "metadata": {
        "id": "k1-WXnpN03RC"
      },
      "outputs": [],
      "source": [
        "import gensim.downloader\n",
        "import numpy as np"
      ]
    },
    {
      "cell_type": "code",
      "execution_count": 35,
      "metadata": {
        "id": "WKEQ0svQ0_bu"
      },
      "outputs": [],
      "source": [
        "glove_vectors = gensim.downloader.load('glove-wiki-gigaword-50')"
      ]
    },
    {
      "cell_type": "code",
      "execution_count": 36,
      "metadata": {
        "colab": {
          "base_uri": "https://localhost:8080/"
        },
        "id": "Emb5Z-y61Bb5",
        "outputId": "114a99a3-fb05-45c3-9a6d-7692a20f5a81"
      },
      "outputs": [
        {
          "name": "stdout",
          "output_type": "stream",
          "text": [
            "data type: <class 'numpy.ndarray'>\n",
            "# words: 400000\n",
            "Embedding dimension: 50\n"
          ]
        }
      ],
      "source": [
        "print('data type:', type(glove_vectors.vectors))\n",
        "print('# words:', glove_vectors.vectors.shape[0])\n",
        "print('Embedding dimension:', glove_vectors.vectors.shape[1])"
      ]
    },
    {
      "cell_type": "markdown",
      "metadata": {
        "id": "ZduEu4W61Lvq"
      },
      "source": [
        "## B. Given a query word, find the top 10 words in the vocabulary that have the highest cosine similarity scores (10 points)"
      ]
    },
    {
      "cell_type": "code",
      "execution_count": 37,
      "metadata": {
        "colab": {
          "base_uri": "https://localhost:8080/"
        },
        "id": "u4E-tYXy1Jly",
        "outputId": "0536ed05-2352-4ba3-aba7-0672b869db44"
      },
      "outputs": [
        {
          "data": {
            "text/plain": [
              "[('dog', 0.9218006134033203),\n",
              " ('rabbit', 0.8487821221351624),\n",
              " ('monkey', 0.8041081428527832),\n",
              " ('rat', 0.7891963124275208),\n",
              " ('cats', 0.7865270972251892),\n",
              " ('snake', 0.7798910737037659),\n",
              " ('dogs', 0.7795814871788025),\n",
              " ('pet', 0.7792249917984009),\n",
              " ('mouse', 0.773166835308075),\n",
              " ('bite', 0.7728800177574158)]"
            ]
          },
          "execution_count": 37,
          "metadata": {},
          "output_type": "execute_result"
        }
      ],
      "source": [
        "glove_vectors.most_similar('cat', topn=10)"
      ]
    },
    {
      "cell_type": "markdown",
      "metadata": {
        "id": "b2CvdJZ41RcJ"
      },
      "source": [
        "## You need to implement `my_most_similar()` that will do the same thing as the built-in `most_similar()` function above\n",
        "- cosine similarity: $\\frac{v_1 \\cdot v_2}{\\lVert v_1 \\rVert \\lVert v_2 \\rVert}$\n",
        "- $\\lVert v_1 \\rVert$ means the vector norm of $v_1$\n",
        "- We have a vocabulary of 400000 words. You should calculate the cosine similarity between `vec(query_word)` and `vec(any other words)`.\n",
        "- Find the top 10 words that have the highest cosine similarity with the query word.\n",
        "- Return a list of tuple, where each tuple contains a word (str) and its corresponding cosine similarity score (float) to the query word.\n",
        "- The following functions are the only built-in functions you are allowed to use for all the questions in Part 3:\n",
        "  - `glove_vectors.get_index()`, `glove_vectors.get_vector()`, `glove_vectors.index_to_key` (See how to use these functions below.)\n",
        "  - `np.dot()`, `np.sum()`, `np.argsort(), np.transpose()`\n",
        "- Hint: Do **not** include the query word itself in the top 10 words\n",
        "- Hint: To implement $\\sqrt{N}$, you can do `N**0.5`"
      ]
    },
    {
      "cell_type": "code",
      "execution_count": 38,
      "metadata": {
        "colab": {
          "base_uri": "https://localhost:8080/"
        },
        "id": "IsWUyrr-nb4l",
        "outputId": "046ce62e-17f5-4209-b87a-8f02133fc43f"
      },
      "outputs": [
        {
          "data": {
            "text/plain": [
              "3292"
            ]
          },
          "execution_count": 38,
          "metadata": {},
          "output_type": "execute_result"
        }
      ],
      "source": [
        "glove_vectors.get_index('apple') # get the index of a word in the vocabulary"
      ]
    },
    {
      "cell_type": "code",
      "execution_count": 39,
      "metadata": {
        "colab": {
          "base_uri": "https://localhost:8080/",
          "height": 35
        },
        "id": "Jg5oUogSneB7",
        "outputId": "0a5dd42f-a70f-4838-9546-7af986f95dde"
      },
      "outputs": [
        {
          "data": {
            "application/vnd.google.colaboratory.intrinsic+json": {
              "type": "string"
            },
            "text/plain": [
              "'apple'"
            ]
          },
          "execution_count": 39,
          "metadata": {},
          "output_type": "execute_result"
        }
      ],
      "source": [
        "glove_vectors.index_to_key[3292] # index to word"
      ]
    },
    {
      "cell_type": "code",
      "execution_count": 40,
      "metadata": {
        "colab": {
          "base_uri": "https://localhost:8080/"
        },
        "id": "_vkbFKQ2nfuN",
        "outputId": "fb56de59-21be-42ec-b28a-d4ca3927431a"
      },
      "outputs": [
        {
          "data": {
            "text/plain": [
              "array([ 0.52042 , -0.8314  ,  0.49961 ,  1.2893  ,  0.1151  ,  0.057521,\n",
              "       -1.3753  , -0.97313 ,  0.18346 ,  0.47672 , -0.15112 ,  0.35532 ,\n",
              "        0.25912 , -0.77857 ,  0.52181 ,  0.47695 , -1.4251  ,  0.858   ,\n",
              "        0.59821 , -1.0903  ,  0.33574 , -0.60891 ,  0.41742 ,  0.21569 ,\n",
              "       -0.07417 , -0.5822  , -0.4502  ,  0.17253 ,  0.16448 , -0.38413 ,\n",
              "        2.3283  , -0.66682 , -0.58181 ,  0.74389 ,  0.095015, -0.47865 ,\n",
              "       -0.84591 ,  0.38704 ,  0.23693 , -1.5523  ,  0.64802 , -0.16521 ,\n",
              "       -1.4719  , -0.16224 ,  0.79857 ,  0.97391 ,  0.40027 , -0.21912 ,\n",
              "       -0.30938 ,  0.26581 ], dtype=float32)"
            ]
          },
          "execution_count": 40,
          "metadata": {},
          "output_type": "execute_result"
        }
      ],
      "source": [
        "glove_vectors.get_vector('apple') # get the word vector of a word"
      ]
    },
    {
      "cell_type": "code",
      "execution_count": 41,
      "metadata": {
        "id": "z9VKWxnV1PRP"
      },
      "outputs": [],
      "source": [
        "def my_most_similar(glove_vectors, query_word, topn):\n",
        "    \"\"\"\n",
        "    Find the most similar words to a given query word based on cosine similarity in the GloVe embedding space.\n",
        "\n",
        "    Args:\n",
        "        glove_vectors (Gensim KeyedVectors)\n",
        "        query_word (str): The word for which to find the most similar words.\n",
        "        topn (int): The number of most similar words to return.\n",
        "\n",
        "    Returns:\n",
        "        list of tuples:\n",
        "            - Each tuple contains a word (str) and its corresponding cosine similarity score (float) to the query word.\n",
        "            - The list is sorted in descending order of cosine similarity.\n",
        "    \"\"\"\n",
        "    # W (numpy.ndarray): glove word embeddings of shape (400000, 50)\n",
        "    W = glove_vectors.vectors\n",
        "\n",
        "    # Your code here\n",
        "    query_word_vec = glove_vectors.get_vector(query_word)\n",
        "    query_word_norm = np.sum(query_word_vec**2)**0.5\n",
        "    sim_list = []\n",
        "\n",
        "    for i in range(len(W)):\n",
        "      word = glove_vectors.index_to_key[i]\n",
        "      if word != query_word:\n",
        "        word_vec = glove_vectors.get_vector(word)\n",
        "        word_norm = np.sum(word_vec**2)**0.5\n",
        "        word_dot_product = np.dot(query_word_vec, word_vec)\n",
        "        cosine_sim = word_dot_product / (query_word_norm * word_norm)\n",
        "        sim_list.append((word, cosine_sim))\n",
        "\n",
        "    sim_list.sort(key = lambda x : x[1], reverse =  True)\n",
        "    my_list = sim_list[:topn]\n",
        "\n",
        "    assert len(my_list) == topn\n",
        "    return my_list"
      ]
    },
    {
      "cell_type": "markdown",
      "metadata": {
        "id": "9yQZwJ0b1gye"
      },
      "source": [
        "## C. What are the highest and lowest vector norms among all the word vectors? Answer with two values. (4 points)"
      ]
    },
    {
      "cell_type": "code",
      "execution_count": 42,
      "metadata": {
        "colab": {
          "base_uri": "https://localhost:8080/"
        },
        "id": "IzIc2brD2VdI",
        "outputId": "5f4fb944-ce85-4189-e977-10d93957e512"
      },
      "outputs": [
        {
          "name": "stdout",
          "output_type": "stream",
          "text": [
            "max_vector_norm: 14.122, min_vector_norm: 0.047\n"
          ]
        }
      ],
      "source": [
        "#Your code here\n",
        "max_vector_norm, min_vector_norm = 0, 0\n",
        "\n",
        "for word in glove_vectors.index_to_key:\n",
        "  vector_norm = np.sum(glove_vectors.get_vector(word)**2)**0.5\n",
        "\n",
        "  max_vector_norm = max(vector_norm, max_vector_norm)\n",
        "  if vector_norm < min_vector_norm or min_vector_norm == 0:\n",
        "    min_vector_norm = vector_norm\n",
        "\n",
        "\n",
        "print(f'max_vector_norm: {max_vector_norm:.3f}, min_vector_norm: {min_vector_norm:.3f}')"
      ]
    },
    {
      "cell_type": "markdown",
      "metadata": {
        "id": "PyOJW6dg1rkG"
      },
      "source": [
        "## D. Why is cosine similarity better than dot product when calculating similarities between word vectors? (3 points)"
      ]
    },
    {
      "cell_type": "markdown",
      "metadata": {
        "id": "zZU2E2fC2p-0"
      },
      "source": [
        "Your answers here (double click to edit)\n",
        "\n",
        "Ans: Cosine Similarity is better than dot product when calculating similarities between word vectors as it calculates the angle inorder to use the direction of the word vectors instead of relying on their magnitudes. Also the dot product gets impacted lading to wrong similarities, if one of the word vectors has a high occurance as compared to the other word. Cosine Similarity also normalizes the dot product."
      ]
    },
    {
      "cell_type": "markdown",
      "metadata": {
        "id": "PErzUd1816x7"
      },
      "source": [
        "## Your implementation of `my_most_similar()` should pass the test cases below"
      ]
    },
    {
      "cell_type": "code",
      "execution_count": 43,
      "metadata": {
        "id": "r4Yi1lWK1c4X"
      },
      "outputs": [],
      "source": [
        "def diff_results(oracle_list, my_list):\n",
        "  for oracle, mine in zip(oracle_list, my_list):\n",
        "    assert oracle[0] == mine[0], \"find the wrong word\"\n",
        "    assert np.isclose(oracle[1], mine[1]), \"wrong consine similarity\"\n",
        "\n",
        "for query in ['computer', 'frog', 'car']:\n",
        "  oracle_list = glove_vectors.most_similar(query, topn=10)\n",
        "  my_list = my_most_similar(glove_vectors, query, topn=10)\n",
        "  diff_results(oracle_list, my_list)"
      ]
    },
    {
      "cell_type": "markdown",
      "metadata": {
        "id": "dD41_iZH2EYw"
      },
      "source": [
        "## E. We visualize the word embeddings with PCA below. What do you see in the figure? (3 points)\n",
        "- Hint: Each dot corresponds to a word vector. Do you observe any meaningful direction between related words?\n",
        "- You do not need to write any code in this question"
      ]
    },
    {
      "cell_type": "code",
      "execution_count": 44,
      "metadata": {
        "id": "kSAPfG3L19kM"
      },
      "outputs": [],
      "source": [
        "from sklearn.decomposition import PCA\n",
        "pca = PCA(n_components=2)\n",
        "Z = pca.fit_transform(glove_vectors.vectors)"
      ]
    },
    {
      "cell_type": "code",
      "execution_count": 45,
      "metadata": {
        "colab": {
          "base_uri": "https://localhost:8080/",
          "height": 422
        },
        "id": "0Jxt-2hc2H8r",
        "outputId": "889c0656-a414-40d6-93d7-eb95b12ed2fd"
      },
      "outputs": [
        {
          "data": {
            "image/png": "[encoded data removed]",
            "text/plain": [
              "<Figure size 1000x500 with 1 Axes>"
            ]
          },
          "metadata": {},
          "output_type": "display_data"
        }
      ],
      "source": [
        "import matplotlib.pyplot as plt\n",
        "plt.figure(figsize=(10,5))\n",
        "for word in ['king', 'queen', 'lord', 'lady', 'prince', 'princess', 'men', 'women']:\n",
        "  point = Z[glove_vectors.get_index(word)]\n",
        "  plt.scatter(point[0], point[1], color='b')\n",
        "  plt.annotate(word, (point[0], point[1]))\n",
        "  plt.xticks([])\n",
        "  plt.yticks([])"
      ]
    },
    {
      "cell_type": "markdown",
      "metadata": {
        "id": "gUyMqZ9v51HY"
      },
      "source": [
        "Your answers here (double click to edit)\n",
        "\n",
        "Ans: We can clearly see that similar meaning words are closer to each other, example, lady and queen and lord and king. Men and women are close to each other, but far away from the other words indicating some kind of relation but within a smaller radius far from each other indicating they are opposites. Similarly prince and lord are close to eachother in the same way princess and lady. All the pairs are as follows:\n",
        "1. men and women\n",
        "2. king and queen\n",
        "3. prince and princess\n",
        "4. lord and lady"
      ]
    },
    {
      "cell_type": "markdown",
      "metadata": {
        "id": "t9crJ6Dx3MCz"
      },
      "source": [
        "## F. Word Analogy: prince is to princess as lord is to? (10 points)\n",
        "  - word1: `prince`, word2: `princess`, word3: `lord`\n",
        "  - `direction = vec(word2) - vec(word1)`\n",
        "  - `vec_tgt = vec(word3) + direction`\n",
        "  - Calcuate the cosine similarities between `vec_tgt` and all the words in the vocabulary, **except for word3**.\n",
        "  - Return the word that has the highest cosine similarity score."
      ]
    },
    {
      "cell_type": "code",
      "execution_count": 46,
      "metadata": {
        "id": "i51kuBJr3UW0"
      },
      "outputs": [],
      "source": [
        "def word_analogy(glove_vectors, word1, word2, word3):\n",
        "  \"\"\"\n",
        "  Args:\n",
        "      glove_vectors (Gensim KeyedVectors)\n",
        "      word1 (str): The first word in the analogy.\n",
        "      word2 (str): The second word in the analogy.\n",
        "      word3 (str): The third word in the analogy for which to find the analogous word.\n",
        "\n",
        "  Returns:\n",
        "      pred_word (str): The word that best completes the analogy.\n",
        "  \"\"\"\n",
        "\n",
        "  # Your code here\n",
        "  w1_vec, w2_vec, w3_vec = glove_vectors.get_vector(word1), glove_vectors.get_vector(word2), glove_vectors.get_vector(word3)\n",
        "\n",
        "  direction = w2_vec - w1_vec\n",
        "  vec_tgt = w3_vec + direction\n",
        "\n",
        "  vec_tgt_norm = np.sum(vec_tgt**2)**0.5\n",
        "  max_cos_sim = 1e-9\n",
        "  pred_word = ''\n",
        "\n",
        "  for word in glove_vectors.index_to_key:\n",
        "    if word != word3:\n",
        "      word_vec = glove_vectors.get_vector(word)\n",
        "      word_vec_num = np.sum(word_vec**2)**0.5\n",
        "      dot_prod = np.dot(vec_tgt, word_vec)\n",
        "      cos_sim = dot_prod / (vec_tgt_norm * word_vec_num)\n",
        "\n",
        "      if cos_sim > max_cos_sim:\n",
        "        max_cos_sim = cos_sim\n",
        "        pred_word = word\n",
        "\n",
        "  print(f'{word1} is to {word2} as {word3} is to? {pred_word}')\n",
        "  assert pred_word != word3\n",
        "  return pred_word"
      ]
    },
    {
      "cell_type": "code",
      "execution_count": 47,
      "metadata": {
        "colab": {
          "base_uri": "https://localhost:8080/"
        },
        "id": "y1e-zPgb9Gul",
        "outputId": "8192263a-aeb4-4fcd-c1da-f2bb7659155a"
      },
      "outputs": [
        {
          "name": "stdout",
          "output_type": "stream",
          "text": [
            "prince is to princess as lord is to? lady\n",
            "aunt is to uncle as queen is to? king\n",
            "london is to england as paris is to? france\n",
            "cat is to cats as car is to? cars\n"
          ]
        }
      ],
      "source": [
        "pred_word = word_analogy(glove_vectors, 'prince', 'princess', 'lord')\n",
        "pred_word = word_analogy(glove_vectors, 'aunt', 'uncle', 'queen')\n",
        "pred_word = word_analogy(glove_vectors, 'london', 'england', 'paris')\n",
        "pred_word = word_analogy(glove_vectors, 'cat', 'cats', 'car')"
      ]
    }
  ],
  "metadata": {
    "colab": {
      "provenance": []
    },
    "kernelspec": {
      "display_name": "Python 3",
      "name": "python3"
    },
    "language_info": {
      "name": "python"
    }
  },
  "nbformat": 4,
  "nbformat_minor": 0
}
